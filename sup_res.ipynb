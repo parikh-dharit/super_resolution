{
  "nbformat": 4,
  "nbformat_minor": 0,
  "metadata": {
    "colab": {
      "name": "sup_res.ipynb",
      "version": "0.3.2",
      "provenance": [],
      "include_colab_link": true
    },
    "kernelspec": {
      "name": "python3",
      "display_name": "Python 3"
    }
  },
  "cells": [
    {
      "cell_type": "markdown",
      "metadata": {
        "id": "view-in-github",
        "colab_type": "text"
      },
      "source": [
        "<a href=\"https://colab.research.google.com/github/parikh-dharit/super_resolution/blob/master/sup_res.ipynb\" target=\"_parent\"><img src=\"https://colab.research.google.com/assets/colab-badge.svg\" alt=\"Open In Colab\"/></a>"
      ]
    },
    {
      "metadata": {
        "id": "K20f5GfGG4ys",
        "colab_type": "text"
      },
      "cell_type": "markdown",
      "source": [
        "Install Pytorch and other libraries/packages"
      ]
    },
    {
      "metadata": {
        "id": "jK5tlTfNGUWv",
        "colab_type": "code",
        "colab": {
          "base_uri": "https://localhost:8080/",
          "height": 258
        },
        "outputId": "bd99db95-5e29-46d7-f4b3-9c091c5a6bfc"
      },
      "cell_type": "code",
      "source": [
        "!pip3 install torch torchvision torchsummary numpy matplotlib Pillow"
      ],
      "execution_count": 2,
      "outputs": [
        {
          "output_type": "stream",
          "text": [
            "Requirement already satisfied: torch in /usr/local/lib/python3.6/dist-packages (1.0.1.post2)\n",
            "Requirement already satisfied: torchvision in /usr/local/lib/python3.6/dist-packages (0.2.2.post3)\n",
            "Requirement already satisfied: torchsummary in /usr/local/lib/python3.6/dist-packages (1.5.1)\n",
            "Requirement already satisfied: numpy in /usr/local/lib/python3.6/dist-packages (1.14.6)\n",
            "Requirement already satisfied: matplotlib in /usr/local/lib/python3.6/dist-packages (3.0.3)\n",
            "Requirement already satisfied: Pillow in /usr/local/lib/python3.6/dist-packages (4.1.1)\n",
            "Requirement already satisfied: six in /usr/local/lib/python3.6/dist-packages (from torchvision) (1.11.0)\n",
            "Requirement already satisfied: kiwisolver>=1.0.1 in /usr/local/lib/python3.6/dist-packages (from matplotlib) (1.0.1)\n",
            "Requirement already satisfied: python-dateutil>=2.1 in /usr/local/lib/python3.6/dist-packages (from matplotlib) (2.5.3)\n",
            "Requirement already satisfied: cycler>=0.10 in /usr/local/lib/python3.6/dist-packages (from matplotlib) (0.10.0)\n",
            "Requirement already satisfied: pyparsing!=2.0.4,!=2.1.2,!=2.1.6,>=2.0.1 in /usr/local/lib/python3.6/dist-packages (from matplotlib) (2.3.1)\n",
            "Requirement already satisfied: olefile in /usr/local/lib/python3.6/dist-packages (from Pillow) (0.46)\n",
            "Requirement already satisfied: setuptools in /usr/local/lib/python3.6/dist-packages (from kiwisolver>=1.0.1->matplotlib) (40.8.0)\n"
          ],
          "name": "stdout"
        }
      ]
    },
    {
      "metadata": {
        "id": "ojdridtpG3Rc",
        "colab_type": "code",
        "colab": {}
      },
      "cell_type": "code",
      "source": [
        "from __future__ import print_function\n",
        "import argparse\n",
        "from math import log10\n",
        "\n",
        "import torch\n",
        "import torch.nn as nn\n",
        "import torch.nn.init as init\n",
        "import torch.optim as optim\n",
        "from torchsummary import summary\n",
        "from torch.utils.data import DataLoader\n",
        "#from model import Net\n",
        "#from data import get_training_set, get_test_set\n",
        "from torchvision.transforms import RandomHorizontalFlip, RandomRotation, ToTensor, Compose, CenterCrop, Resize\n",
        "\n",
        "import matplotlib.pyplot as plt\n",
        "import numpy as np\n",
        "import PIL\n"
      ],
      "execution_count": 0,
      "outputs": []
    },
    {
      "metadata": {
        "id": "ie_I8NmhOMXS",
        "colab_type": "code",
        "colab": {}
      },
      "cell_type": "code",
      "source": [
        "%reload_ext autoreload\n",
        "%autoreload 2\n",
        "%matplotlib inline"
      ],
      "execution_count": 0,
      "outputs": []
    },
    {
      "metadata": {
        "id": "PAtIDR48NTUY",
        "colab_type": "text"
      },
      "cell_type": "markdown",
      "source": [
        "Initialize the settings/variables"
      ]
    },
    {
      "metadata": {
        "id": "-S01j4mBG7pu",
        "colab_type": "code",
        "colab": {
          "base_uri": "https://localhost:8080/",
          "height": 34
        },
        "outputId": "68dc8bfc-88c9-4c72-daed-613acf429f95"
      },
      "cell_type": "code",
      "source": [
        "'''\n",
        "# Training settings\n",
        "parser = argparse.ArgumentParser(description='PyTorch Super Res Example')\n",
        "parser.add_argument('--upscale_factor', type=int, required=True, help=\"super resolution upscale factor\")\n",
        "parser.add_argument('--batchSize', type=int, default=64, help='training batch size')\n",
        "parser.add_argument('--testBatchSize', type=int, default=10, help='testing batch size')\n",
        "parser.add_argument('--nEpochs', type=int, default=2, help='number of epochs to train for')\n",
        "parser.add_argument('--lr', type=float, default=0.01, help='Learning Rate. Default=0.01')\n",
        "parser.add_argument('--model', type=str, default='model', help='model/network file to use')\n",
        "parser.add_argument('--init_model', type=str, help='model to initialize with?')\n",
        "parser.add_argument('--cuda', action='store_true', help='use cuda?')\n",
        "parser.add_argument('--threads', type=int, default=4, help='number of threads for data loader to use')\n",
        "parser.add_argument('--seed', type=int, default=123, help='random seed to use. Default=123')\n",
        "opt = parser.parse_args()\n",
        "\n",
        "print(opt)\n",
        "\n",
        "if opt.cuda and not torch.cuda.is_available():\n",
        "    raise Exception(\"No GPU found, please run without --cuda\")\n",
        "\n",
        "torch.manual_seed(opt.seed)\n",
        "\n",
        "device = torch.device(\"cuda\" if opt.cuda else \"cpu\")\n",
        "\n",
        "def show_dataset(dataset, train=True,n=5):\n",
        "\n",
        "'''\n",
        "upscale_factor = 3\n",
        "batchSize = 32\n",
        "testBatchSize = 4\n",
        "nEpochs = 20\n",
        "lr = 0.01\n",
        "threads = 4\n",
        "seed = 321\n",
        "\n",
        "if torch.cuda.is_available():\n",
        "  device = torch.device(\"cuda\")\n",
        "else:\n",
        "  device = torch.device(\"cpu\")\n",
        "\n",
        "torch.manual_seed(seed)"
      ],
      "execution_count": 69,
      "outputs": [
        {
          "output_type": "execute_result",
          "data": {
            "text/plain": [
              "<torch._C.Generator at 0x7f7a81fdfcd0>"
            ]
          },
          "metadata": {
            "tags": []
          },
          "execution_count": 69
        }
      ]
    },
    {
      "metadata": {
        "id": "N-wBSsjVNqHV",
        "colab_type": "text"
      },
      "cell_type": "markdown",
      "source": [
        "Stacks the first n=6 transformed elements"
      ]
    },
    {
      "metadata": {
        "id": "dcb4mbyLNQLe",
        "colab_type": "code",
        "colab": {}
      },
      "cell_type": "code",
      "source": [
        "def tensorTo_unnorm(norm_img):\n",
        "  un_img = norm_img.detach().numpy()\n",
        "  un_img *= 255.0\n",
        "  un_img = un_img.clip(0, 255)\n",
        "  un_img = un_img.reshape(un_img.shape[-2],un_img.shape[-1])\n",
        "  return un_img\n",
        "def show_dataset1(dataset, n=6):\n",
        "  for o in range(2):\n",
        "    img = np.vstack((np.hstack((np.asarray(tensorTo_unnorm(dataset[i][o]), dtype=int) for _ in range(n)))\n",
        "                     for i in range(len(dataset))))\n",
        "    imgs_comb = PIL.Image.fromarray(img)\n",
        "    plt.imshow(imgs_comb)\n",
        "    plt.axis('off')\n",
        "def show_dataset2(dataset, n=5):\n",
        "  for o in range(2):\n",
        "    img = np.vstack((np.hstack((np.asarray(dataset[i+3][o]) for _ in range(n)))\n",
        "                     for i in range(6)))\n",
        "    if o==0:\n",
        "      imgs_comb_inp = PIL.Image.fromarray(img)\n",
        "    elif o==1:\n",
        "      imgs_comb_tar = PIL.Image.fromarray(img)\n",
        "  \n",
        "  return imgs_comb_inp, imgs_comb_tar\n",
        "def show_dataset(dataset, n=5):\n",
        "  '''\n",
        "  inp = np.vstack(\n",
        "                    ( np.hstack(\n",
        "                         ( np.asarray(dataset[i+3][o]) for _ in range(n))  \n",
        "                      ) \n",
        "                      for i in range(6)\n",
        "                    )\n",
        "                 )\n",
        "  '''\n",
        "  #print(dataset[3][0].size)\n",
        "  ls = ( np.asarray(dataset[3][0]) for _ in range(n))\n",
        "  #print(\"length of ls: \",len(ls))\n",
        "  #print(\"shape of ls[0]: \",next(ls).shape)\n",
        "  hs = np.hstack(ls)\n",
        "  #print(\"shape of hs[0]: \",hs.shape)\n",
        "  inp_list = []\n",
        "  tar_list = []\n",
        "  for i in range(6):\n",
        "    inp = []\n",
        "    tar = []\n",
        "    for _ in range(n):\n",
        "      inp_m, tar_m = dataset[i+7]\n",
        "      inp.append(inp_m)\n",
        "      tar.append(tar_m)\n",
        "      #inp.append(dataset[i+7][0])\n",
        "      #tar.append(dataset[i+7][1])\n",
        "      #inp = np.append(inp, np.asarray(dataset[i+3][0]))\n",
        "      #tar = np.append(tar, np.asarray(dataset[i+3][1]))\n",
        "    inp_list.append(np.hstack(inp))\n",
        "    tar_list.append(np.hstack(tar))\n",
        "    #if i==0:\n",
        "    #  print(\"shape of hs(inp_list): \", inp_list[0].shape)\n",
        "  img0 = np.vstack(inp_list)\n",
        "  img1 = np.vstack(tar_list)\n",
        "  #print(inp.shape)\n",
        "  imgs_comb_inp = PIL.Image.fromarray(img0)\n",
        "  imgs_comb_tar = PIL.Image.fromarray(img1)\n",
        "  \n",
        "  return imgs_comb_inp, imgs_comb_tar\n",
        "  #img = np.vstack((np.hstack((np.asarray(dataset[i+3][o]) for _ in range(n)))\n",
        "  #                 for i in range(7)))\n",
        "  #imgs_comb = PIL.Image.fromarray(img)  \n",
        "  #return imgs_comb"
      ],
      "execution_count": 0,
      "outputs": []
    },
    {
      "metadata": {
        "id": "AfgOthMXNoZH",
        "colab_type": "code",
        "colab": {
          "base_uri": "https://localhost:8080/",
          "height": 34
        },
        "outputId": "b2cf68bd-90bb-4edd-c938-c57f8de7331f"
      },
      "cell_type": "code",
      "source": [
        "!ls"
      ],
      "execution_count": 7,
      "outputs": [
        {
          "output_type": "stream",
          "text": [
            "dataset  sample_data\n"
          ],
          "name": "stdout"
        }
      ]
    },
    {
      "metadata": {
        "id": "98eHDbssTDZ_",
        "colab_type": "code",
        "colab": {}
      },
      "cell_type": "code",
      "source": [
        "from os.path import exists, join, basename\n",
        "from os import makedirs, remove, listdir, walk\n",
        "from six.moves import urllib\n",
        "import tarfile\n",
        "import zipfile\n",
        "import torch.utils.data as data\n",
        "import shutil\n",
        "import os\n",
        "import time"
      ],
      "execution_count": 0,
      "outputs": []
    },
    {
      "metadata": {
        "id": "L0T72H6tceA4",
        "colab_type": "text"
      },
      "cell_type": "markdown",
      "source": [
        "Dataset file structure:\n",
        "\n",
        "/dataset\n",
        "\n",
        "    /dataset-name\n",
        "    \n",
        "        /images\n",
        "        \n",
        "            /train\n",
        "            \n",
        "                /image01.png\n",
        "                ...\n",
        "                \n",
        "            /test\n",
        "            \n",
        "                /image01.png\n",
        "                ...\n",
        "                \n",
        "images location: /dataset/dataset-name/train/image05.png  "
      ]
    },
    {
      "metadata": {
        "id": "2G8vb1dmdcrK",
        "colab_type": "code",
        "colab": {}
      },
      "cell_type": "code",
      "source": [
        "def is_image_file(filename):\n",
        "    return any(filename.endswith(extension) for extension in [\".png\", \".jpg\", \".jpeg\"])\n"
      ],
      "execution_count": 0,
      "outputs": []
    },
    {
      "metadata": {
        "id": "Ic-5s6EKQxM9",
        "colab_type": "code",
        "colab": {}
      },
      "cell_type": "code",
      "source": [
        "def download_bsd300(dest=\"dataset\"):\n",
        "    output_image_dir = join(dest, \"BSDS300/images\")\n",
        "\n",
        "    if not exists(output_image_dir):\n",
        "        makedirs(dest)\n",
        "        url = \"http://www2.eecs.berkeley.edu/Research/Projects/CS/vision/bsds/BSDS300-images.tgz\"\n",
        "        print(\"downloading url \", url)\n",
        "\n",
        "        data = urllib.request.urlopen(url)\n",
        "\n",
        "        file_path = join(dest, basename(url))\n",
        "        with open(file_path, 'wb') as f:\n",
        "            f.write(data.read())\n",
        "\n",
        "        print(\"Extracting data\")\n",
        "        with tarfile.open(file_path) as tar:\n",
        "            for item in tar:\n",
        "                tar.extract(item, dest)\n",
        "\n",
        "        remove(file_path)\n",
        "    return output_image_dir"
      ],
      "execution_count": 0,
      "outputs": []
    },
    {
      "metadata": {
        "id": "q80nnH_2SjbO",
        "colab_type": "code",
        "colab": {}
      },
      "cell_type": "code",
      "source": [
        "def download_div2k(dest=\"dataset\"):\n",
        "    output_image_dir = join(dest, \"DIV2K/images\")\n",
        "    train_dest = join(output_image_dir, \"train\")\n",
        "    test_dest = join(output_image_dir, \"test\")\n",
        "    if not (exists(output_image_dir) and exists(train_dest) and exists(test_dest)):\n",
        "        if not exists(output_image_dir):\n",
        "          makedirs(dest)\n",
        "        \n",
        "        if not exists(train_dest):\n",
        "          makedirs(train_dest)\n",
        "          url = \"http://data.vision.ee.ethz.ch/cvl/DIV2K/DIV2K_train_HR.zip\"\n",
        "          print(\"train: downloading url \", url)\n",
        "          \n",
        "          file_path = join(dest, basename(url))\n",
        "          if not exists(file_path):\n",
        "            data_train = urllib.request.urlopen(url)\n",
        "            \n",
        "            #file_path = join(dest, basename(url))\n",
        "            with open(file_path, 'wb') as f:\n",
        "              f.write(data_train.read())\n",
        "            \n",
        "          print(\"Extracting data\")\n",
        "          zip_ref = zipfile.ZipFile(file_path, 'r')\n",
        "          zip_ref.extractall(train_dest)\n",
        "          zip_ref.close()\n",
        "          remove(file_path)\n",
        "          source_files = 'dataset/DIV2K/images/train/DIV2K_train_HR'\n",
        "          dest1_files = 'dataset/DIV2K/images/train'\n",
        "          files_to_move = os.listdir(source_files)\n",
        "          for f in files_to_move:\n",
        "            if is_image_file(join(source_files, f)):\n",
        "              shutil.move(join(source_files, f), dest1_files)\n",
        "          os.rmdir(source_files)\n",
        "        \n",
        "        if not exists(test_dest):\n",
        "          makedirs(test_dest)\n",
        "          url = \"http://data.vision.ee.ethz.ch/cvl/DIV2K/DIV2K_valid_HR.zip\"\n",
        "          print(\"test: downloading url \", url)\n",
        "          \n",
        "          file_path = join(dest, basename(url))\n",
        "          if not exists(file_path):\n",
        "            data_test = urllib.request.urlopen(url)\n",
        "\n",
        "            #file_path = join(dest, basename(url))\n",
        "            with open(file_path, 'wb') as f:\n",
        "              f.write(data_test.read())\n",
        "\n",
        "          print(\"Extracting data\")\n",
        "          zip_ref = zipfile.ZipFile(file_path, 'r')\n",
        "          zip_ref.extractall(test_dest)\n",
        "          zip_ref.close()\n",
        "          remove(file_path)\n",
        "          source_files = 'dataset/DIV2K/images/test/DIV2K_valid_HR'\n",
        "          dest1_files = 'dataset/DIV2K/images/test'\n",
        "          files_to_move = os.listdir(source_files)\n",
        "          for f in files_to_move:\n",
        "            if is_image_file(join(source_files, f)):\n",
        "              shutil.move(join(source_files, f), dest1_files)\n",
        "          os.rmdir(source_files)\n",
        "    \n",
        "    return output_image_dir"
      ],
      "execution_count": 0,
      "outputs": []
    },
    {
      "metadata": {
        "id": "fY2gcGI9gk8D",
        "colab_type": "code",
        "colab": {}
      },
      "cell_type": "code",
      "source": [
        "def load_img(filepath):\n",
        "    img = PIL.Image.open(filepath).convert('YCbCr')\n",
        "    y, _, _ = img.split()\n",
        "    return y\n"
      ],
      "execution_count": 0,
      "outputs": []
    },
    {
      "metadata": {
        "id": "3XXVnF5WgmOi",
        "colab_type": "code",
        "colab": {}
      },
      "cell_type": "code",
      "source": [
        "def calculate_valid_crop_size(crop_size, upscale_factor):\n",
        "    return crop_size - (crop_size % upscale_factor)"
      ],
      "execution_count": 0,
      "outputs": []
    },
    {
      "metadata": {
        "id": "Cv0cPY2gg8Az",
        "colab_type": "code",
        "colab": {}
      },
      "cell_type": "code",
      "source": [
        "def original_transform(crop_size):\n",
        "    return Compose([\n",
        "        CenterCrop(crop_size),\n",
        "        RandomHorizontalFlip(),\n",
        "        #RandomRotation(20, resample=PIL.Image.BILINEAR),\n",
        "        #ToTensor(),\n",
        "    ])\n"
      ],
      "execution_count": 0,
      "outputs": []
    },
    {
      "metadata": {
        "id": "IxVjtbYSiKjN",
        "colab_type": "code",
        "colab": {}
      },
      "cell_type": "code",
      "source": [
        "def input_transform(crop_size, upscale_factor):\n",
        "    return Compose([\n",
        "        #CenterCrop(crop_size),\n",
        "        Resize(crop_size // upscale_factor),\n",
        "        ToTensor(), #comment so that we can show images\n",
        "    ])\n"
      ],
      "execution_count": 0,
      "outputs": []
    },
    {
      "metadata": {
        "id": "BMmYDPRgiPjd",
        "colab_type": "code",
        "colab": {}
      },
      "cell_type": "code",
      "source": [
        "def target_transform():\n",
        "    return Compose([\n",
        "        #CenterCrop(crop_size),\n",
        "        #Resize(crop_size // upscale_factor),\n",
        "        ToTensor(), #comment so that we can show images, show_dataset()\n",
        "    ])\n"
      ],
      "execution_count": 0,
      "outputs": []
    },
    {
      "metadata": {
        "id": "Xf8cCuiDiRhA",
        "colab_type": "code",
        "colab": {}
      },
      "cell_type": "code",
      "source": [
        "#custom image resize function, where image size doesn't exceed a certain threshold\n",
        "def image_size_changes(img, up_factor):\n",
        "    he, wi = img.size\n",
        "    d_sample = 1\n",
        "    while (he//d_sample)*(wi//d_sample) > (100000):\n",
        "        d_sample += 1\n",
        "    img = img.resize((he//d_sample, wi//d_sample), Image.ANTIALIAS)\n",
        "    he, wi = img.size\n",
        "    new_he = (he//up_factor) *up_factor\n",
        "    new_wi = (wi//up_factor) *up_factor\n",
        "    img = img.crop((0, 0, new_he, new_wi))\n",
        "    tr_img = img.copy()\n",
        "    img = img.resize((new_he//up_factor, new_wi//up_factor), Image.ANTIALIAS)\n",
        "    return img, tr_img\n"
      ],
      "execution_count": 0,
      "outputs": []
    },
    {
      "metadata": {
        "id": "TcSAmoMXkRSb",
        "colab_type": "code",
        "colab": {}
      },
      "cell_type": "code",
      "source": [
        "def image_filenames(image_dir):\n",
        "  file_list = [join(image_dir, x) for x in listdir(image_dir) if is_image_file(x)]\n",
        "  return file_list"
      ],
      "execution_count": 0,
      "outputs": []
    },
    {
      "metadata": {
        "id": "jngSbjlJlahT",
        "colab_type": "code",
        "colab": {}
      },
      "cell_type": "code",
      "source": [
        "def video_filenames(image_dir):\n",
        "  #video_filenames (folders)\n",
        "  file_list = []\n",
        "  #print(len(files)-2)\n",
        "  for root, dirs, files in os.walk(image_dir):\n",
        "    files.sort()\n",
        "    for i in range(len(files)-2):#for x in files:\n",
        "      temp_lst = []\n",
        "      for j in range(3):\n",
        "          if is_image_file(files[i+j]):\n",
        "              temp_lst.append(join(root,files[i+j]))\n",
        "          else:\n",
        "              print(\"Not image\")\n",
        "              print(files[i+j])\n",
        "      self.file_list.append(temp_lst) \n",
        "\n",
        "  #vid_filelist\n",
        "\n",
        "\n",
        "  #current_file - no, create a mapping between index and file,frame\n",
        "  return file_list"
      ],
      "execution_count": 0,
      "outputs": []
    },
    {
      "metadata": {
        "id": "e2zDNhJ3tyD5",
        "colab_type": "text"
      },
      "cell_type": "markdown",
      "source": [
        "To do:\n",
        "\n",
        "Figure out how to apply same transformation to multiple frames for video sup_res"
      ]
    },
    {
      "metadata": {
        "id": "KY2Gv5f7jYHp",
        "colab_type": "code",
        "colab": {}
      },
      "cell_type": "code",
      "source": [
        "class DatasetFromFolder(data.Dataset):\n",
        "    def __init__(self, image_dir, input_transform=None, original_transform=None, target_transform=None, image_video = \"image\", upscale_factor=3):\n",
        "        super(DatasetFromFolder, self).__init__()\n",
        "        #self.image_filenames = [join(image_dir, x) for x in listdir(image_dir) if is_image_file(x)]\n",
        "        self.image_video = image_video\n",
        "        if(self.image_video == \"image\"):\n",
        "          self.filenames = image_filenames(image_dir)\n",
        "        else:\n",
        "          self.filenames = video_filenames(image_dir)\n",
        "        self.upscale_factor = upscale_factor\n",
        "        self.input_transform = input_transform\n",
        "        self.original_transform = original_transform\n",
        "        self.target_transform = target_transform\n",
        "\n",
        "    def __getitem__(self, index):\n",
        "        if(self.image_video == \"image\"):\n",
        "          input = load_img(self.filenames[index])        \n",
        "          input = self.original_transform(input)\n",
        "          target = input.copy()\n",
        "          if self.input_transform:\n",
        "              input = self.input_transform(input)\n",
        "          if self.target_transform:\n",
        "              target = self.target_transform(target)\n",
        "          return input, target\n",
        "        \n",
        "        else:\n",
        "          input = []\n",
        "          #print(self.vid_filelist[index][1])\n",
        "          for j in range(3):\n",
        "            try:\n",
        "                input.append(load_img(self.filenames[index][j]))\n",
        "                input[j] = self.original_transform(input[j])#remove random horizontal flips\n",
        "            except:\n",
        "                print(index)\n",
        "                print(j)\n",
        "                print(self.filenames[index])\n",
        "                print(self.filenames[index][j])\n",
        "          target = input[1]\n",
        "          \n",
        "          if self.input_transform:\n",
        "            for j in range(3):\n",
        "                input[j] = self.input_transform(input[j])\n",
        "            #input = torch.cat(input)#[3,85,85]\n",
        "            #when multiple frames are fed as multiple channels uncomment the line above\n",
        "            #and comment line below\n",
        "            input = torch.stack(input)##[3,1,85,85]\n",
        "            #input = input.reshape(1, 3, 85, 85) #[3,1,85,85] -> [1, 3, 85, 85]\n",
        "            #print(input.shape)\n",
        "            input = input.reshape(input.shape[1],input.shape[0],input.shape[2],input.shape[3])\n",
        "            \n",
        "          if self.target_transform:\n",
        "            target = self.target_transform(target)\n",
        "            \n",
        "          '''\n",
        "          self.filenames = video_filenames(image_dir)\n",
        "          input = load_img(self.image_filenames[index])\n",
        "\n",
        "          #input = RandomHorizontalFlip(input),\n",
        "          #input = RandomRotation(input, 20, resample=Image.BILINEAR)\n",
        "          input = self.original_transform(input)\n",
        "          #he, wi = input.size\n",
        "          #new_he = (he//self.upscale_factor) * self.upscale_factor\n",
        "          #new_wi = (wi//self.upscale_factor) * self.upscale_factor\n",
        "          #input = input.crop((0, 0, new_he, new_wi))\n",
        "          #target = input.copy()          \n",
        "          \n",
        "          if self.input_transform:\n",
        "              #desired_size = (he//self.upscale_factor, wi//self.upscale_factor)\n",
        "              #print(desired_size)\n",
        "              #input = F.resize(input, desired_size, 'PIL.Image.BILINEAR')\n",
        "              #input = Resize(input, desired_size)\n",
        "              #input = input.resize(desired_size, Image.ANTIALIAS)\n",
        "              #input = self.input_transform(input)\n",
        "          if self.target_transform:\n",
        "              #target = self.target_transform(target)\n",
        "          #print((\"index:{}, or_size:{}-{}, in_size:{}-{}, tar_size:{}-{}\").format(index,he,wi,desired_size[0],desired_size[1],new_he,new_wi))\n",
        "          #print(target.shape)\n",
        "          #print((\"index:{}, in_size:{}-{}, tar_size:{}-{}\").format(index,input.size[0],input.size[1],target.size[0],target.size[1]))\n",
        "          '''\n",
        "          return input, target\n",
        "\n",
        "    def __len__(self):\n",
        "        return len(self.filenames)\n",
        "        \n"
      ],
      "execution_count": 0,
      "outputs": []
    },
    {
      "metadata": {
        "id": "4EeJwbJhtiJR",
        "colab_type": "code",
        "colab": {}
      },
      "cell_type": "code",
      "source": [
        "def get_training_set(upscale_factor):\n",
        "    root_dir = download_div2k()\n",
        "    #root_dir = video_dataset()\n",
        "    train_dir = join(root_dir, \"train\")\n",
        "    crop_size = calculate_valid_crop_size(256, upscale_factor)\n",
        "\n",
        "    return DatasetFromFolder(train_dir,\n",
        "                             original_transform=original_transform(crop_size),\n",
        "                             input_transform=input_transform(crop_size, upscale_factor),\n",
        "                             target_transform=target_transform())\n"
      ],
      "execution_count": 0,
      "outputs": []
    },
    {
      "metadata": {
        "id": "Cd8LW0Q4t8Vx",
        "colab_type": "code",
        "colab": {}
      },
      "cell_type": "code",
      "source": [
        "def get_test_set(upscale_factor):\n",
        "    #root_dir = t91_dataset()\n",
        "    root_dir = download_div2k()\n",
        "    test_dir = join(root_dir, \"test\")\n",
        "    crop_size = calculate_valid_crop_size(256, upscale_factor)\n",
        "\n",
        "    return DatasetFromFolder(test_dir,\n",
        "                             input_transform=input_transform(crop_size, upscale_factor),\n",
        "                             original_transform=original_transform(crop_size),\n",
        "                             target_transform=target_transform())"
      ],
      "execution_count": 0,
      "outputs": []
    },
    {
      "metadata": {
        "id": "Ru-rfVX695YU",
        "colab_type": "code",
        "colab": {}
      },
      "cell_type": "code",
      "source": [
        "class Net(nn.Module):\n",
        "    def __init__(self, upscale_factor):\n",
        "        super(Net, self).__init__()\n",
        "\n",
        "        self.relu = nn.ReLU()\n",
        "        self.conv1 = nn.Conv2d(1, 64, (5, 5), (1, 1), (2, 2))\n",
        "        self.conv2 = nn.Conv2d(64, 64, (3, 3), (1, 1), (1, 1))\n",
        "        self.conv3 = nn.Conv2d(64, 32, (3, 3), (1, 1), (1, 1))\n",
        "        self.conv4 = nn.Conv2d(32, upscale_factor ** 2, (3, 3), (1, 1), (1, 1))\n",
        "        self.pixel_shuffle = nn.PixelShuffle(upscale_factor)\n",
        "\n",
        "        self._initialize_weights()\n",
        "\n",
        "    def forward(self, x):\n",
        "        x = self.relu(self.conv1(x))\n",
        "        x = self.relu(self.conv2(x))\n",
        "        x = self.relu(self.conv3(x))\n",
        "        x = self.pixel_shuffle(self.conv4(x))\n",
        "        return x\n",
        "\n",
        "    def _initialize_weights(self):\n",
        "        init.orthogonal_(self.conv1.weight, init.calculate_gain('relu'))\n",
        "        init.orthogonal_(self.conv2.weight, init.calculate_gain('relu'))\n",
        "        init.orthogonal_(self.conv3.weight, init.calculate_gain('relu'))\n",
        "        init.orthogonal_(self.conv4.weight)"
      ],
      "execution_count": 0,
      "outputs": []
    },
    {
      "metadata": {
        "id": "HW7rWYWT_cZO",
        "colab_type": "code",
        "colab": {
          "base_uri": "https://localhost:8080/",
          "height": 68
        },
        "outputId": "de7f3431-e303-459f-bd6a-1f96516870f7"
      },
      "cell_type": "code",
      "source": [
        "print('===> Loading datasets')\n",
        "train_set = get_training_set(upscale_factor)\n",
        "test_set = get_test_set(upscale_factor)\n",
        "print(\"Train set size: \", train_set.__len__())# -> 200\n",
        "#print(train_set.__len__()) -> tuple of tensors\n",
        "print(train_set.__getitem__(0)[0].size()) #-> tensor of [1, 85, 85]\n"
      ],
      "execution_count": 57,
      "outputs": [
        {
          "output_type": "stream",
          "text": [
            "===> Loading datasets\n",
            "Train set size:  800\n",
            "torch.Size([1, 85, 85])\n"
          ],
          "name": "stdout"
        }
      ]
    },
    {
      "metadata": {
        "id": "DuWnpwFxBw2I",
        "colab_type": "code",
        "colab": {
          "base_uri": "https://localhost:8080/",
          "height": 238
        },
        "outputId": "fdafe935-264d-4c19-ba21-b9e139d43b20"
      },
      "cell_type": "code",
      "source": [
        "!ls dataset/DIV2K/images/test"
      ],
      "execution_count": 58,
      "outputs": [
        {
          "output_type": "stream",
          "text": [
            "0801.png  0814.png  0827.png  0840.png\t0853.png  0866.png  0879.png  0892.png\n",
            "0802.png  0815.png  0828.png  0841.png\t0854.png  0867.png  0880.png  0893.png\n",
            "0803.png  0816.png  0829.png  0842.png\t0855.png  0868.png  0881.png  0894.png\n",
            "0804.png  0817.png  0830.png  0843.png\t0856.png  0869.png  0882.png  0895.png\n",
            "0805.png  0818.png  0831.png  0844.png\t0857.png  0870.png  0883.png  0896.png\n",
            "0806.png  0819.png  0832.png  0845.png\t0858.png  0871.png  0884.png  0897.png\n",
            "0807.png  0820.png  0833.png  0846.png\t0859.png  0872.png  0885.png  0898.png\n",
            "0808.png  0821.png  0834.png  0847.png\t0860.png  0873.png  0886.png  0899.png\n",
            "0809.png  0822.png  0835.png  0848.png\t0861.png  0874.png  0887.png  0900.png\n",
            "0810.png  0823.png  0836.png  0849.png\t0862.png  0875.png  0888.png\n",
            "0811.png  0824.png  0837.png  0850.png\t0863.png  0876.png  0889.png\n",
            "0812.png  0825.png  0838.png  0851.png\t0864.png  0877.png  0890.png\n",
            "0813.png  0826.png  0839.png  0852.png\t0865.png  0878.png  0891.png\n"
          ],
          "name": "stdout"
        }
      ]
    },
    {
      "metadata": {
        "id": "KrgjoojzBSpC",
        "colab_type": "code",
        "colab": {}
      },
      "cell_type": "code",
      "source": [
        "#commented ToTensor() in input and target transfrom function fpr show_dataset\n",
        "imgs_comb_inp, imgs_comb_tar = show_dataset(train_set)"
      ],
      "execution_count": 0,
      "outputs": []
    },
    {
      "metadata": {
        "id": "aPDpB-2DRwKp",
        "colab_type": "code",
        "colab": {
          "base_uri": "https://localhost:8080/",
          "height": 286
        },
        "outputId": "ae1defca-f62c-4dd9-aed9-cd6e0ab27ba1"
      },
      "cell_type": "code",
      "source": [
        "plt.imshow(imgs_comb_inp)\n",
        "plt.axis('off')"
      ],
      "execution_count": 52,
      "outputs": [
        {
          "output_type": "execute_result",
          "data": {
            "text/plain": [
              "(-0.5, 424.5, 509.5, -0.5)"
            ]
          },
          "metadata": {
            "tags": []
          },
          "execution_count": 52
        },
        {
          "output_type": "display_data",
          "data": {
            "image/png": "[encoded data removed]",
            "text/plain": [
              "<Figure size 432x288 with 1 Axes>"
            ]
          },
          "metadata": {
            "tags": []
          }
        }
      ]
    },
    {
      "metadata": {
        "id": "YMDkF3YRI0o9",
        "colab_type": "code",
        "colab": {
          "base_uri": "https://localhost:8080/",
          "height": 286
        },
        "outputId": "a1917107-4ae7-4a2f-c85d-4ebd1c445ea6"
      },
      "cell_type": "code",
      "source": [
        "plt.imshow(imgs_comb_tar)\n",
        "plt.axis('off')"
      ],
      "execution_count": 53,
      "outputs": [
        {
          "output_type": "execute_result",
          "data": {
            "text/plain": [
              "(-0.5, 1274.5, 1529.5, -0.5)"
            ]
          },
          "metadata": {
            "tags": []
          },
          "execution_count": 53
        },
        {
          "output_type": "display_data",
          "data": {
            "image/png": "[encoded data removed]",
            "text/plain": [
              "<Figure size 432x288 with 1 Axes>"
            ]
          },
          "metadata": {
            "tags": []
          }
        }
      ]
    },
    {
      "metadata": {
        "id": "5l6dfKyNDZLa",
        "colab_type": "code",
        "colab": {}
      },
      "cell_type": "code",
      "source": [
        "training_data_loader = DataLoader(dataset=train_set, num_workers=threads, batch_size=batchSize, shuffle=True)\n",
        "testing_data_loader = DataLoader(dataset=test_set, num_workers=threads, batch_size=testBatchSize, shuffle=False)"
      ],
      "execution_count": 0,
      "outputs": []
    },
    {
      "metadata": {
        "id": "NdI9Mx3MIoMZ",
        "colab_type": "code",
        "colab": {
          "base_uri": "https://localhost:8080/",
          "height": 34
        },
        "outputId": "c7625641-24be-443b-e6b0-1739de5e9ae8"
      },
      "cell_type": "code",
      "source": [
        "\n",
        "print('===> Building model')\n",
        "model = Net(upscale_factor=upscale_factor).to(device)\n",
        "#model = torch.load(opt.model, map_location=device)\n",
        "\n",
        "'''\n",
        "#loading pre trained model\n",
        "pre_trained2 = torch.load(\"model_epoch_93.pth\", map_location='cpu')\n",
        "dict2 = pre_trained2.state_dict()\n",
        "print(dict2.keys())\n",
        "#model = Net(upscale_factor=3).to('cpu')\n",
        "#for name, param in model.named_parameters():\n",
        "#    print(\"name: {}\".format(name))\n",
        "#    print(\"parameter shape: {}\".format(param.shape))\n",
        "dict3 = model.state_dict()\n",
        "print(dict3.keys())\n",
        "\n",
        "for name, param in model.named_parameters():\n",
        "    if name == 'conv1.weight':\n",
        "        for i in range(3):\n",
        "            dict3[name][:,:,i,:,:] = dict1[name]\n",
        "    else:\n",
        "        dict3[name] = dict1[name]\n",
        "        param.requires_grad = False\n",
        "#end of pretrained model loading\n",
        "\n",
        "'''\n",
        "\n",
        "criterion = nn.MSELoss()\n",
        "\n",
        "optimizer = optim.Adam(model.parameters(), lr=lr)\n"
      ],
      "execution_count": 60,
      "outputs": [
        {
          "output_type": "stream",
          "text": [
            "===> Building model\n"
          ],
          "name": "stdout"
        }
      ]
    },
    {
      "metadata": {
        "id": "AT0GRj0RLBQc",
        "colab_type": "code",
        "colab": {}
      },
      "cell_type": "code",
      "source": [
        "def train(epoch):\n",
        "    epoch_loss = 0\n",
        "    for iteration, batch in enumerate(training_data_loader, 1):\n",
        "        start_time = time.time()\n",
        "        input, target = batch[0].to(device), batch[1].to(device)\n",
        "        '''\n",
        "        if epoch==1:\n",
        "            #print(\"training_data_loader size:\")\n",
        "            #print(training_data_loader.size())\n",
        "            print(\"Input size:\")\n",
        "            print(input.size()) # [4,1,85,85], [batch_size, chnnels, dim1, dim2]\n",
        "            print(\"Target size:\")\n",
        "            print(target.size()) # [4,1,255,255]\n",
        "            #break#co\n",
        "        '''\n",
        "                    \n",
        "        optimizer.zero_grad()\n",
        "        loss = criterion(model(input), target)\n",
        "        epoch_loss += loss.item()\n",
        "        loss.backward()\n",
        "        optimizer.step()\n",
        "        end_time = time.time()\n",
        "        print(\"Time taken: \", end_time - start_time)\n",
        "\n",
        "        print(\"===> Epoch[{}]({}/{}): Loss: {:.6f}\".format(epoch, iteration, len(training_data_loader), loss.item()))\n",
        "\n",
        "    print(\"===> Epoch {} Complete: Avg. Loss: {:.4f}\".format(epoch, epoch_loss / len(training_data_loader)))\n",
        "    #f2.write(\"===> Avg. Loss: {:.4f}\".format(epoch_loss / len(training_data_loader)))\n",
        "    f2.write(\" {:.6f}\".format(epoch_loss / len(training_data_loader)))\n"
      ],
      "execution_count": 0,
      "outputs": []
    },
    {
      "metadata": {
        "id": "H8gCYHG6LK3Y",
        "colab_type": "code",
        "colab": {}
      },
      "cell_type": "code",
      "source": [
        "def test():\n",
        "    avg_psnr = 0\n",
        "    with torch.no_grad():\n",
        "        for batch in testing_data_loader:\n",
        "            input, target = batch[0].to(device), batch[1].to(device)\n",
        "\n",
        "            prediction = model(input)\n",
        "            mse = criterion(prediction, target)\n",
        "            psnr = 10 * log10(1 / mse.item())\n",
        "            avg_psnr += psnr\n",
        "    print(\"===> Avg. PSNR: {:.4f} dB\".format(avg_psnr / len(testing_data_loader)))\n",
        "    #f1.write(\" ===> Avg. PSNR: {:.4f} dB\".format(avg_psnr / len(testing_data_loader)))\n",
        "    f1.write(\" {:.6f}\".format(avg_psnr / len(testing_data_loader)))\n",
        "    return avg_psnr\n"
      ],
      "execution_count": 0,
      "outputs": []
    },
    {
      "metadata": {
        "id": "H1e8WucnLN3m",
        "colab_type": "code",
        "colab": {}
      },
      "cell_type": "code",
      "source": [
        "def checkpoint(epoch, apsnr, last_ap):\n",
        "    if epoch==1:\n",
        "        last_ap = apsnr\n",
        "    if apsnr >= last_ap :\n",
        "        model_out_path = \"model_epoch_{}.pth\".format(epoch)\n",
        "        torch.save(model, model_out_path)\n",
        "        print(\"Checkpoint saved to {}\".format(model_out_path))\n",
        "        last_ap = apsnr\n",
        "    return last_ap\n"
      ],
      "execution_count": 0,
      "outputs": []
    },
    {
      "metadata": {
        "id": "HnKpT8oyLqni",
        "colab_type": "code",
        "colab": {
          "base_uri": "https://localhost:8080/",
          "height": 527
        },
        "outputId": "8d06a562-cd65-44ab-d746-9444e6c00af7"
      },
      "cell_type": "code",
      "source": [
        "print(model)\n",
        "print(\"summary starts\")        \n",
        "summary(model, train_set.__getitem__(0)[0].size(), batch_size=batchSize)\n"
      ],
      "execution_count": 68,
      "outputs": [
        {
          "output_type": "stream",
          "text": [
            "Net(\n",
            "  (relu): ReLU()\n",
            "  (conv1): Conv2d(1, 64, kernel_size=(5, 5), stride=(1, 1), padding=(2, 2))\n",
            "  (conv2): Conv2d(64, 64, kernel_size=(3, 3), stride=(1, 1), padding=(1, 1))\n",
            "  (conv3): Conv2d(64, 32, kernel_size=(3, 3), stride=(1, 1), padding=(1, 1))\n",
            "  (conv4): Conv2d(32, 9, kernel_size=(3, 3), stride=(1, 1), padding=(1, 1))\n",
            "  (pixel_shuffle): PixelShuffle(upscale_factor=3)\n",
            ")\n",
            "summary starts\n",
            "----------------------------------------------------------------\n",
            "        Layer (type)               Output Shape         Param #\n",
            "================================================================\n",
            "            Conv2d-1           [16, 64, 85, 85]           1,664\n",
            "              ReLU-2           [16, 64, 85, 85]               0\n",
            "            Conv2d-3           [16, 64, 85, 85]          36,928\n",
            "              ReLU-4           [16, 64, 85, 85]               0\n",
            "            Conv2d-5           [16, 32, 85, 85]          18,464\n",
            "              ReLU-6           [16, 32, 85, 85]               0\n",
            "            Conv2d-7            [16, 9, 85, 85]           2,601\n",
            "      PixelShuffle-8          [16, 1, 255, 255]               0\n",
            "================================================================\n",
            "Total params: 59,657\n",
            "Trainable params: 59,657\n",
            "Non-trainable params: 0\n",
            "----------------------------------------------------------------\n",
            "Input size (MB): 0.44\n",
            "Forward/backward pass size (MB): 298.10\n",
            "Params size (MB): 0.23\n",
            "Estimated Total Size (MB): 298.77\n",
            "----------------------------------------------------------------\n"
          ],
          "name": "stdout"
        }
      ]
    },
    {
      "metadata": {
        "id": "Vbo4-1YSLusI",
        "colab_type": "code",
        "colab": {
          "base_uri": "https://localhost:8080/",
          "height": 8836
        },
        "outputId": "615f1f01-53e3-4547-9ae5-370cac132e3c"
      },
      "cell_type": "code",
      "source": [
        "last_ap = 0\n",
        "for epoch in range(1, nEpochs + 1):\n",
        "    f2=open('train_loss.txt','a+')\n",
        "    f2.write(\"\\n\" + str(epoch))\n",
        "    train(epoch)\n",
        "    f2.close()\n",
        "    f1=open('test_psnr.txt','a+')\n",
        "    f1.write(\"\\n\" + str(epoch))\n",
        "    apsnr = test()\n",
        "    f1.close()\n",
        "    last_ap = checkpoint(epoch, apsnr, last_ap)\n"
      ],
      "execution_count": 71,
      "outputs": [
        {
          "output_type": "stream",
          "text": [
            "Input size:\n",
            "torch.Size([16, 1, 85, 85])\n",
            "Target size:\n",
            "torch.Size([16, 1, 255, 255])\n",
            "===> Epoch[1](1/50): Loss: 0.484813\n",
            "Input size:\n",
            "torch.Size([16, 1, 85, 85])\n",
            "Target size:\n",
            "torch.Size([16, 1, 255, 255])\n",
            "===> Epoch[1](2/50): Loss: 62.759193\n",
            "Input size:\n",
            "torch.Size([16, 1, 85, 85])\n",
            "Target size:\n",
            "torch.Size([16, 1, 255, 255])\n",
            "===> Epoch[1](3/50): Loss: 0.198209\n",
            "Input size:\n",
            "torch.Size([16, 1, 85, 85])\n",
            "Target size:\n",
            "torch.Size([16, 1, 255, 255])\n",
            "===> Epoch[1](4/50): Loss: 0.274984\n",
            "Input size:\n",
            "torch.Size([16, 1, 85, 85])\n",
            "Target size:\n",
            "torch.Size([16, 1, 255, 255])\n",
            "===> Epoch[1](5/50): Loss: 0.269265\n",
            "Input size:\n",
            "torch.Size([16, 1, 85, 85])\n",
            "Target size:\n",
            "torch.Size([16, 1, 255, 255])\n",
            "===> Epoch[1](6/50): Loss: 0.228629\n",
            "Input size:\n",
            "torch.Size([16, 1, 85, 85])\n",
            "Target size:\n",
            "torch.Size([16, 1, 255, 255])\n",
            "===> Epoch[1](7/50): Loss: 0.185601\n",
            "Input size:\n",
            "torch.Size([16, 1, 85, 85])\n",
            "Target size:\n",
            "torch.Size([16, 1, 255, 255])\n",
            "===> Epoch[1](8/50): Loss: 0.118581\n",
            "Input size:\n",
            "torch.Size([16, 1, 85, 85])\n",
            "Target size:\n",
            "torch.Size([16, 1, 255, 255])\n",
            "===> Epoch[1](9/50): Loss: 0.069176\n",
            "Input size:\n",
            "torch.Size([16, 1, 85, 85])\n",
            "Target size:\n",
            "torch.Size([16, 1, 255, 255])\n",
            "===> Epoch[1](10/50): Loss: 0.049026\n",
            "Input size:\n",
            "torch.Size([16, 1, 85, 85])\n",
            "Target size:\n",
            "torch.Size([16, 1, 255, 255])\n",
            "===> Epoch[1](11/50): Loss: 0.036785\n",
            "Input size:\n",
            "torch.Size([16, 1, 85, 85])\n",
            "Target size:\n",
            "torch.Size([16, 1, 255, 255])\n",
            "===> Epoch[1](12/50): Loss: 0.044494\n",
            "Input size:\n",
            "torch.Size([16, 1, 85, 85])\n",
            "Target size:\n",
            "torch.Size([16, 1, 255, 255])\n",
            "===> Epoch[1](13/50): Loss: 0.046590\n",
            "Input size:\n",
            "torch.Size([16, 1, 85, 85])\n",
            "Target size:\n",
            "torch.Size([16, 1, 255, 255])\n",
            "===> Epoch[1](14/50): Loss: 0.033943\n",
            "Input size:\n",
            "torch.Size([16, 1, 85, 85])\n",
            "Target size:\n",
            "torch.Size([16, 1, 255, 255])\n",
            "===> Epoch[1](15/50): Loss: 0.021271\n",
            "Input size:\n",
            "torch.Size([16, 1, 85, 85])\n",
            "Target size:\n",
            "torch.Size([16, 1, 255, 255])\n",
            "===> Epoch[1](16/50): Loss: 0.024798\n",
            "Input size:\n",
            "torch.Size([16, 1, 85, 85])\n",
            "Target size:\n",
            "torch.Size([16, 1, 255, 255])\n",
            "===> Epoch[1](17/50): Loss: 0.030052\n",
            "Input size:\n",
            "torch.Size([16, 1, 85, 85])\n",
            "Target size:\n",
            "torch.Size([16, 1, 255, 255])\n",
            "===> Epoch[1](18/50): Loss: 0.033034\n",
            "Input size:\n",
            "torch.Size([16, 1, 85, 85])\n",
            "Target size:\n",
            "torch.Size([16, 1, 255, 255])\n",
            "===> Epoch[1](19/50): Loss: 0.032626\n",
            "Input size:\n",
            "torch.Size([16, 1, 85, 85])\n",
            "Target size:\n",
            "torch.Size([16, 1, 255, 255])\n",
            "===> Epoch[1](20/50): Loss: 0.031352\n",
            "Input size:\n",
            "torch.Size([16, 1, 85, 85])\n",
            "Target size:\n",
            "torch.Size([16, 1, 255, 255])\n",
            "===> Epoch[1](21/50): Loss: 0.021770\n",
            "Input size:\n",
            "torch.Size([16, 1, 85, 85])\n",
            "Target size:\n",
            "torch.Size([16, 1, 255, 255])\n",
            "===> Epoch[1](22/50): Loss: 0.030637\n",
            "Input size:\n",
            "torch.Size([16, 1, 85, 85])\n",
            "Target size:\n",
            "torch.Size([16, 1, 255, 255])\n",
            "===> Epoch[1](23/50): Loss: 0.020883\n",
            "Input size:\n",
            "torch.Size([16, 1, 85, 85])\n",
            "Target size:\n",
            "torch.Size([16, 1, 255, 255])\n",
            "===> Epoch[1](24/50): Loss: 0.031176\n",
            "Input size:\n",
            "torch.Size([16, 1, 85, 85])\n",
            "Target size:\n",
            "torch.Size([16, 1, 255, 255])\n",
            "===> Epoch[1](25/50): Loss: 0.022998\n",
            "Input size:\n",
            "torch.Size([16, 1, 85, 85])\n",
            "Target size:\n",
            "torch.Size([16, 1, 255, 255])\n",
            "===> Epoch[1](26/50): Loss: 0.019670\n",
            "Input size:\n",
            "torch.Size([16, 1, 85, 85])\n",
            "Target size:\n",
            "torch.Size([16, 1, 255, 255])\n",
            "===> Epoch[1](27/50): Loss: 0.017471\n",
            "Input size:\n",
            "torch.Size([16, 1, 85, 85])\n",
            "Target size:\n",
            "torch.Size([16, 1, 255, 255])\n",
            "===> Epoch[1](28/50): Loss: 0.017775\n",
            "Input size:\n",
            "torch.Size([16, 1, 85, 85])\n",
            "Target size:\n",
            "torch.Size([16, 1, 255, 255])\n",
            "===> Epoch[1](29/50): Loss: 0.014361\n",
            "Input size:\n",
            "torch.Size([16, 1, 85, 85])\n",
            "Target size:\n",
            "torch.Size([16, 1, 255, 255])\n",
            "===> Epoch[1](30/50): Loss: 0.020651\n",
            "Input size:\n",
            "torch.Size([16, 1, 85, 85])\n",
            "Target size:\n",
            "torch.Size([16, 1, 255, 255])\n",
            "===> Epoch[1](31/50): Loss: 0.017550\n",
            "Input size:\n",
            "torch.Size([16, 1, 85, 85])\n",
            "Target size:\n",
            "torch.Size([16, 1, 255, 255])\n",
            "===> Epoch[1](32/50): Loss: 0.018857\n",
            "Input size:\n",
            "torch.Size([16, 1, 85, 85])\n",
            "Target size:\n",
            "torch.Size([16, 1, 255, 255])\n",
            "===> Epoch[1](33/50): Loss: 0.018752\n",
            "Input size:\n",
            "torch.Size([16, 1, 85, 85])\n",
            "Target size:\n",
            "torch.Size([16, 1, 255, 255])\n",
            "===> Epoch[1](34/50): Loss: 0.014895\n",
            "Input size:\n",
            "torch.Size([16, 1, 85, 85])\n",
            "Target size:\n",
            "torch.Size([16, 1, 255, 255])\n",
            "===> Epoch[1](35/50): Loss: 0.016338\n",
            "Input size:\n",
            "torch.Size([16, 1, 85, 85])\n",
            "Target size:\n",
            "torch.Size([16, 1, 255, 255])\n",
            "===> Epoch[1](36/50): Loss: 0.017740\n",
            "Input size:\n",
            "torch.Size([16, 1, 85, 85])\n",
            "Target size:\n",
            "torch.Size([16, 1, 255, 255])\n",
            "===> Epoch[1](37/50): Loss: 0.013570\n",
            "Input size:\n",
            "torch.Size([16, 1, 85, 85])\n",
            "Target size:\n",
            "torch.Size([16, 1, 255, 255])\n",
            "===> Epoch[1](38/50): Loss: 0.015271\n",
            "Input size:\n",
            "torch.Size([16, 1, 85, 85])\n",
            "Target size:\n",
            "torch.Size([16, 1, 255, 255])\n",
            "===> Epoch[1](39/50): Loss: 0.011576\n",
            "Input size:\n",
            "torch.Size([16, 1, 85, 85])\n",
            "Target size:\n",
            "torch.Size([16, 1, 255, 255])\n",
            "===> Epoch[1](40/50): Loss: 0.015073\n",
            "Input size:\n",
            "torch.Size([16, 1, 85, 85])\n",
            "Target size:\n",
            "torch.Size([16, 1, 255, 255])\n",
            "===> Epoch[1](41/50): Loss: 0.011668\n",
            "Input size:\n",
            "torch.Size([16, 1, 85, 85])\n",
            "Target size:\n",
            "torch.Size([16, 1, 255, 255])\n",
            "===> Epoch[1](42/50): Loss: 0.014426\n",
            "Input size:\n",
            "torch.Size([16, 1, 85, 85])\n",
            "Target size:\n",
            "torch.Size([16, 1, 255, 255])\n",
            "===> Epoch[1](43/50): Loss: 0.012952\n",
            "Input size:\n",
            "torch.Size([16, 1, 85, 85])\n",
            "Target size:\n",
            "torch.Size([16, 1, 255, 255])\n",
            "===> Epoch[1](44/50): Loss: 0.014329\n",
            "Input size:\n",
            "torch.Size([16, 1, 85, 85])\n",
            "Target size:\n",
            "torch.Size([16, 1, 255, 255])\n",
            "===> Epoch[1](45/50): Loss: 0.018085\n",
            "Input size:\n",
            "torch.Size([16, 1, 85, 85])\n",
            "Target size:\n",
            "torch.Size([16, 1, 255, 255])\n",
            "===> Epoch[1](46/50): Loss: 0.017485\n",
            "Input size:\n",
            "torch.Size([16, 1, 85, 85])\n",
            "Target size:\n",
            "torch.Size([16, 1, 255, 255])\n",
            "===> Epoch[1](47/50): Loss: 0.013815\n",
            "Input size:\n",
            "torch.Size([16, 1, 85, 85])\n",
            "Target size:\n",
            "torch.Size([16, 1, 255, 255])\n",
            "===> Epoch[1](48/50): Loss: 0.014826\n",
            "Input size:\n",
            "torch.Size([16, 1, 85, 85])\n",
            "Target size:\n",
            "torch.Size([16, 1, 255, 255])\n",
            "===> Epoch[1](49/50): Loss: 0.012324\n",
            "Input size:\n",
            "torch.Size([16, 1, 85, 85])\n",
            "Target size:\n",
            "torch.Size([16, 1, 255, 255])\n",
            "===> Epoch[1](50/50): Loss: 0.014589\n",
            "===> Epoch 1 Complete: Avg. Loss: 1.3099\n",
            "===> Avg. PSNR: 19.0001 dB\n",
            "Checkpoint saved to model_epoch_1.pth\n"
          ],
          "name": "stdout"
        },
        {
          "output_type": "stream",
          "text": [
            "/usr/local/lib/python3.6/dist-packages/torch/serialization.py:251: UserWarning: Couldn't retrieve source code for container of type Net. It won't be checked for correctness upon loading.\n",
            "  \"type \" + obj.__name__ + \". It won't be checked \"\n"
          ],
          "name": "stderr"
        },
        {
          "output_type": "stream",
          "text": [
            "===> Epoch[2](1/50): Loss: 0.012682\n",
            "===> Epoch[2](2/50): Loss: 0.011119\n",
            "===> Epoch[2](3/50): Loss: 0.010926\n",
            "===> Epoch[2](4/50): Loss: 0.010718\n",
            "===> Epoch[2](5/50): Loss: 0.011194\n",
            "===> Epoch[2](6/50): Loss: 0.015259\n",
            "===> Epoch[2](7/50): Loss: 0.011112\n",
            "===> Epoch[2](8/50): Loss: 0.008416\n",
            "===> Epoch[2](9/50): Loss: 0.013140\n",
            "===> Epoch[2](10/50): Loss: 0.011757\n",
            "===> Epoch[2](11/50): Loss: 0.011316\n",
            "===> Epoch[2](12/50): Loss: 0.008503\n",
            "===> Epoch[2](13/50): Loss: 0.012044\n",
            "===> Epoch[2](14/50): Loss: 0.010045\n",
            "===> Epoch[2](15/50): Loss: 0.008409\n",
            "===> Epoch[2](16/50): Loss: 0.016505\n",
            "===> Epoch[2](17/50): Loss: 0.011771\n",
            "===> Epoch[2](18/50): Loss: 0.012369\n",
            "===> Epoch[2](19/50): Loss: 0.012782\n",
            "===> Epoch[2](20/50): Loss: 0.012370\n",
            "===> Epoch[2](21/50): Loss: 0.014122\n",
            "===> Epoch[2](22/50): Loss: 0.008602\n",
            "===> Epoch[2](23/50): Loss: 0.010502\n",
            "===> Epoch[2](24/50): Loss: 0.009630\n",
            "===> Epoch[2](25/50): Loss: 0.010162\n",
            "===> Epoch[2](26/50): Loss: 0.010556\n",
            "===> Epoch[2](27/50): Loss: 0.011697\n",
            "===> Epoch[2](28/50): Loss: 0.008662\n",
            "===> Epoch[2](29/50): Loss: 0.010136\n",
            "===> Epoch[2](30/50): Loss: 0.008996\n",
            "===> Epoch[2](31/50): Loss: 0.007589\n",
            "===> Epoch[2](32/50): Loss: 0.008430\n",
            "===> Epoch[2](33/50): Loss: 0.007698\n",
            "===> Epoch[2](34/50): Loss: 0.008651\n",
            "===> Epoch[2](35/50): Loss: 0.010349\n",
            "===> Epoch[2](36/50): Loss: 0.007186\n",
            "===> Epoch[2](37/50): Loss: 0.006837\n",
            "===> Epoch[2](38/50): Loss: 0.012576\n",
            "===> Epoch[2](39/50): Loss: 0.009109\n",
            "===> Epoch[2](40/50): Loss: 0.013427\n",
            "===> Epoch[2](41/50): Loss: 0.011125\n",
            "===> Epoch[2](42/50): Loss: 0.013712\n",
            "===> Epoch[2](43/50): Loss: 0.007513\n",
            "===> Epoch[2](44/50): Loss: 0.010204\n",
            "===> Epoch[2](45/50): Loss: 0.007834\n",
            "===> Epoch[2](46/50): Loss: 0.009411\n",
            "===> Epoch[2](47/50): Loss: 0.012717\n",
            "===> Epoch[2](48/50): Loss: 0.008261\n",
            "===> Epoch[2](49/50): Loss: 0.013974\n",
            "===> Epoch[2](50/50): Loss: 0.008528\n",
            "===> Epoch 2 Complete: Avg. Loss: 0.0106\n",
            "===> Avg. PSNR: 20.8205 dB\n",
            "Checkpoint saved to model_epoch_2.pth\n",
            "===> Epoch[3](1/50): Loss: 0.007817\n",
            "===> Epoch[3](2/50): Loss: 0.006250\n",
            "===> Epoch[3](3/50): Loss: 0.008563\n",
            "===> Epoch[3](4/50): Loss: 0.008527\n",
            "===> Epoch[3](5/50): Loss: 0.009169\n",
            "===> Epoch[3](6/50): Loss: 0.008489\n",
            "===> Epoch[3](7/50): Loss: 0.009130\n",
            "===> Epoch[3](8/50): Loss: 0.009474\n",
            "===> Epoch[3](9/50): Loss: 0.007447\n",
            "===> Epoch[3](10/50): Loss: 0.008765\n",
            "===> Epoch[3](11/50): Loss: 0.007911\n",
            "===> Epoch[3](12/50): Loss: 0.008225\n",
            "===> Epoch[3](13/50): Loss: 0.009195\n",
            "===> Epoch[3](14/50): Loss: 0.008585\n",
            "===> Epoch[3](15/50): Loss: 0.012058\n",
            "===> Epoch[3](16/50): Loss: 0.006129\n",
            "===> Epoch[3](17/50): Loss: 0.007552\n",
            "===> Epoch[3](18/50): Loss: 0.008416\n",
            "===> Epoch[3](19/50): Loss: 0.007274\n",
            "===> Epoch[3](20/50): Loss: 0.009011\n",
            "===> Epoch[3](21/50): Loss: 0.006856\n",
            "===> Epoch[3](22/50): Loss: 0.007379\n",
            "===> Epoch[3](23/50): Loss: 0.010337\n",
            "===> Epoch[3](24/50): Loss: 0.011295\n",
            "===> Epoch[3](25/50): Loss: 0.007492\n",
            "===> Epoch[3](26/50): Loss: 0.014775\n",
            "===> Epoch[3](27/50): Loss: 0.011400\n",
            "===> Epoch[3](28/50): Loss: 0.005622\n",
            "===> Epoch[3](29/50): Loss: 0.008177\n",
            "===> Epoch[3](30/50): Loss: 0.006278\n",
            "===> Epoch[3](31/50): Loss: 0.005118\n",
            "===> Epoch[3](32/50): Loss: 0.008565\n",
            "===> Epoch[3](33/50): Loss: 0.009617\n",
            "===> Epoch[3](34/50): Loss: 0.009496\n",
            "===> Epoch[3](35/50): Loss: 0.008323\n",
            "===> Epoch[3](36/50): Loss: 0.009346\n",
            "===> Epoch[3](37/50): Loss: 0.009056\n",
            "===> Epoch[3](38/50): Loss: 0.006875\n",
            "===> Epoch[3](39/50): Loss: 0.005781\n",
            "===> Epoch[3](40/50): Loss: 0.009218\n",
            "===> Epoch[3](41/50): Loss: 0.005620\n",
            "===> Epoch[3](42/50): Loss: 0.006973\n",
            "===> Epoch[3](43/50): Loss: 0.006485\n",
            "===> Epoch[3](44/50): Loss: 0.008728\n",
            "===> Epoch[3](45/50): Loss: 0.006662\n",
            "===> Epoch[3](46/50): Loss: 0.006920\n",
            "===> Epoch[3](47/50): Loss: 0.005575\n",
            "===> Epoch[3](48/50): Loss: 0.009443\n",
            "===> Epoch[3](49/50): Loss: 0.006248\n",
            "===> Epoch[3](50/50): Loss: 0.008238\n",
            "===> Epoch 3 Complete: Avg. Loss: 0.0082\n",
            "===> Avg. PSNR: 21.7896 dB\n",
            "Checkpoint saved to model_epoch_3.pth\n",
            "===> Epoch[4](1/50): Loss: 0.006059\n",
            "===> Epoch[4](2/50): Loss: 0.007035\n",
            "===> Epoch[4](3/50): Loss: 0.007493\n",
            "===> Epoch[4](4/50): Loss: 0.006436\n",
            "===> Epoch[4](5/50): Loss: 0.006173\n",
            "===> Epoch[4](6/50): Loss: 0.006630\n",
            "===> Epoch[4](7/50): Loss: 0.010975\n",
            "===> Epoch[4](8/50): Loss: 0.007003\n",
            "===> Epoch[4](9/50): Loss: 0.004562\n",
            "===> Epoch[4](10/50): Loss: 0.006772\n",
            "===> Epoch[4](11/50): Loss: 0.004828\n",
            "===> Epoch[4](12/50): Loss: 0.007553\n",
            "===> Epoch[4](13/50): Loss: 0.007915\n",
            "===> Epoch[4](14/50): Loss: 0.011051\n",
            "===> Epoch[4](15/50): Loss: 0.007135\n",
            "===> Epoch[4](16/50): Loss: 0.012471\n",
            "===> Epoch[4](17/50): Loss: 0.011054\n",
            "===> Epoch[4](18/50): Loss: 0.010336\n",
            "===> Epoch[4](19/50): Loss: 0.008332\n",
            "===> Epoch[4](20/50): Loss: 0.005109\n",
            "===> Epoch[4](21/50): Loss: 0.007523\n",
            "===> Epoch[4](22/50): Loss: 0.006255\n",
            "===> Epoch[4](23/50): Loss: 0.005864\n",
            "===> Epoch[4](24/50): Loss: 0.008935\n",
            "===> Epoch[4](25/50): Loss: 0.007156\n",
            "===> Epoch[4](26/50): Loss: 0.005531\n",
            "===> Epoch[4](27/50): Loss: 0.005940\n",
            "===> Epoch[4](28/50): Loss: 0.008594\n",
            "===> Epoch[4](29/50): Loss: 0.008901\n",
            "===> Epoch[4](30/50): Loss: 0.010269\n",
            "===> Epoch[4](31/50): Loss: 0.007500\n",
            "===> Epoch[4](32/50): Loss: 0.007185\n",
            "===> Epoch[4](33/50): Loss: 0.008978\n",
            "===> Epoch[4](34/50): Loss: 0.006855\n",
            "===> Epoch[4](35/50): Loss: 0.006322\n",
            "===> Epoch[4](36/50): Loss: 0.011657\n",
            "===> Epoch[4](37/50): Loss: 0.006514\n",
            "===> Epoch[4](38/50): Loss: 0.006622\n",
            "===> Epoch[4](39/50): Loss: 0.006096\n",
            "===> Epoch[4](40/50): Loss: 0.009385\n",
            "===> Epoch[4](41/50): Loss: 0.007527\n",
            "===> Epoch[4](42/50): Loss: 0.006755\n",
            "===> Epoch[4](43/50): Loss: 0.005820\n",
            "===> Epoch[4](44/50): Loss: 0.005465\n",
            "===> Epoch[4](45/50): Loss: 0.005660\n",
            "===> Epoch[4](46/50): Loss: 0.009609\n",
            "===> Epoch[4](47/50): Loss: 0.006872\n",
            "===> Epoch[4](48/50): Loss: 0.007366\n",
            "===> Epoch[4](49/50): Loss: 0.005366\n",
            "===> Epoch[4](50/50): Loss: 0.007250\n",
            "===> Epoch 4 Complete: Avg. Loss: 0.0075\n",
            "===> Avg. PSNR: 22.1256 dB\n",
            "Checkpoint saved to model_epoch_4.pth\n",
            "===> Epoch[5](1/50): Loss: 0.007459\n",
            "===> Epoch[5](2/50): Loss: 0.008274\n",
            "===> Epoch[5](3/50): Loss: 0.005487\n",
            "===> Epoch[5](4/50): Loss: 0.007574\n",
            "===> Epoch[5](5/50): Loss: 0.007505\n",
            "===> Epoch[5](6/50): Loss: 0.004846\n",
            "===> Epoch[5](7/50): Loss: 0.004725\n",
            "===> Epoch[5](8/50): Loss: 0.007113\n",
            "===> Epoch[5](9/50): Loss: 0.005662\n",
            "===> Epoch[5](10/50): Loss: 0.005976\n",
            "===> Epoch[5](11/50): Loss: 0.006156\n",
            "===> Epoch[5](12/50): Loss: 0.006647\n",
            "===> Epoch[5](13/50): Loss: 0.005963\n",
            "===> Epoch[5](14/50): Loss: 0.005024\n",
            "===> Epoch[5](15/50): Loss: 0.006477\n",
            "===> Epoch[5](16/50): Loss: 0.005279\n"
          ],
          "name": "stdout"
        },
        {
          "output_type": "stream",
          "text": [
            "Traceback (most recent call last):\n",
            "Traceback (most recent call last):\n",
            "Traceback (most recent call last):\n",
            "  File \"/usr/lib/python3.6/multiprocessing/queues.py\", line 240, in _feed\n",
            "    send_bytes(obj)\n",
            "  File \"/usr/lib/python3.6/multiprocessing/queues.py\", line 240, in _feed\n",
            "    send_bytes(obj)\n",
            "  File \"/usr/lib/python3.6/multiprocessing/connection.py\", line 200, in send_bytes\n",
            "    self._send_bytes(m[offset:offset + size])\n",
            "  File \"/usr/lib/python3.6/multiprocessing/connection.py\", line 200, in send_bytes\n",
            "    self._send_bytes(m[offset:offset + size])\n",
            "  File \"/usr/lib/python3.6/multiprocessing/queues.py\", line 240, in _feed\n",
            "    send_bytes(obj)\n",
            "Traceback (most recent call last):\n",
            "  File \"/usr/lib/python3.6/multiprocessing/queues.py\", line 240, in _feed\n",
            "    send_bytes(obj)\n",
            "  File \"/usr/lib/python3.6/multiprocessing/connection.py\", line 200, in send_bytes\n",
            "    self._send_bytes(m[offset:offset + size])\n",
            "  File \"/usr/lib/python3.6/multiprocessing/connection.py\", line 200, in send_bytes\n",
            "    self._send_bytes(m[offset:offset + size])\n",
            "  File \"/usr/lib/python3.6/multiprocessing/connection.py\", line 404, in _send_bytes\n",
            "    self._send(header + buf)\n",
            "  File \"/usr/lib/python3.6/multiprocessing/connection.py\", line 368, in _send\n",
            "    n = write(self._handle, buf)\n",
            "BrokenPipeError: [Errno 32] Broken pipe\n",
            "  File \"/usr/lib/python3.6/multiprocessing/connection.py\", line 404, in _send_bytes\n",
            "    self._send(header + buf)\n",
            "  File \"/usr/lib/python3.6/multiprocessing/connection.py\", line 368, in _send\n",
            "    n = write(self._handle, buf)\n",
            "BrokenPipeError: [Errno 32] Broken pipe\n",
            "  File \"/usr/lib/python3.6/multiprocessing/connection.py\", line 404, in _send_bytes\n",
            "    self._send(header + buf)\n",
            "  File \"/usr/lib/python3.6/multiprocessing/connection.py\", line 404, in _send_bytes\n",
            "    self._send(header + buf)\n",
            "  File \"/usr/lib/python3.6/multiprocessing/connection.py\", line 368, in _send\n",
            "    n = write(self._handle, buf)\n",
            "  File \"/usr/lib/python3.6/multiprocessing/connection.py\", line 368, in _send\n",
            "    n = write(self._handle, buf)\n",
            "BrokenPipeError: [Errno 32] Broken pipe\n",
            "BrokenPipeError: [Errno 32] Broken pipe\n"
          ],
          "name": "stderr"
        },
        {
          "output_type": "error",
          "ename": "KeyboardInterrupt",
          "evalue": "ignored",
          "traceback": [
            "\u001b[0;31m---------------------------------------------------------------------------\u001b[0m",
            "\u001b[0;31mKeyboardInterrupt\u001b[0m                         Traceback (most recent call last)",
            "\u001b[0;32m<ipython-input-71-7adee087364d>\u001b[0m in \u001b[0;36m<module>\u001b[0;34m()\u001b[0m\n\u001b[1;32m      3\u001b[0m     \u001b[0mf2\u001b[0m\u001b[0;34m=\u001b[0m\u001b[0mopen\u001b[0m\u001b[0;34m(\u001b[0m\u001b[0;34m'train_loss.txt'\u001b[0m\u001b[0;34m,\u001b[0m\u001b[0;34m'a+'\u001b[0m\u001b[0;34m)\u001b[0m\u001b[0;34m\u001b[0m\u001b[0;34m\u001b[0m\u001b[0m\n\u001b[1;32m      4\u001b[0m     \u001b[0mf2\u001b[0m\u001b[0;34m.\u001b[0m\u001b[0mwrite\u001b[0m\u001b[0;34m(\u001b[0m\u001b[0;34m\"\\n\"\u001b[0m \u001b[0;34m+\u001b[0m \u001b[0mstr\u001b[0m\u001b[0;34m(\u001b[0m\u001b[0mepoch\u001b[0m\u001b[0;34m)\u001b[0m\u001b[0;34m)\u001b[0m\u001b[0;34m\u001b[0m\u001b[0;34m\u001b[0m\u001b[0m\n\u001b[0;32m----> 5\u001b[0;31m     \u001b[0mtrain\u001b[0m\u001b[0;34m(\u001b[0m\u001b[0mepoch\u001b[0m\u001b[0;34m)\u001b[0m\u001b[0;34m\u001b[0m\u001b[0;34m\u001b[0m\u001b[0m\n\u001b[0m\u001b[1;32m      6\u001b[0m     \u001b[0mf2\u001b[0m\u001b[0;34m.\u001b[0m\u001b[0mclose\u001b[0m\u001b[0;34m(\u001b[0m\u001b[0;34m)\u001b[0m\u001b[0;34m\u001b[0m\u001b[0;34m\u001b[0m\u001b[0m\n\u001b[1;32m      7\u001b[0m     \u001b[0mf1\u001b[0m\u001b[0;34m=\u001b[0m\u001b[0mopen\u001b[0m\u001b[0;34m(\u001b[0m\u001b[0;34m'test_psnr.txt'\u001b[0m\u001b[0;34m,\u001b[0m\u001b[0;34m'a+'\u001b[0m\u001b[0;34m)\u001b[0m\u001b[0;34m\u001b[0m\u001b[0;34m\u001b[0m\u001b[0m\n",
            "\u001b[0;32m<ipython-input-63-cf7d077c3817>\u001b[0m in \u001b[0;36mtrain\u001b[0;34m(epoch)\u001b[0m\n\u001b[1;32m     13\u001b[0m \u001b[0;34m\u001b[0m\u001b[0m\n\u001b[1;32m     14\u001b[0m         \u001b[0moptimizer\u001b[0m\u001b[0;34m.\u001b[0m\u001b[0mzero_grad\u001b[0m\u001b[0;34m(\u001b[0m\u001b[0;34m)\u001b[0m\u001b[0;34m\u001b[0m\u001b[0;34m\u001b[0m\u001b[0m\n\u001b[0;32m---> 15\u001b[0;31m         \u001b[0mloss\u001b[0m \u001b[0;34m=\u001b[0m \u001b[0mcriterion\u001b[0m\u001b[0;34m(\u001b[0m\u001b[0mmodel\u001b[0m\u001b[0;34m(\u001b[0m\u001b[0minput\u001b[0m\u001b[0;34m)\u001b[0m\u001b[0;34m,\u001b[0m \u001b[0mtarget\u001b[0m\u001b[0;34m)\u001b[0m\u001b[0;34m\u001b[0m\u001b[0;34m\u001b[0m\u001b[0m\n\u001b[0m\u001b[1;32m     16\u001b[0m         \u001b[0mepoch_loss\u001b[0m \u001b[0;34m+=\u001b[0m \u001b[0mloss\u001b[0m\u001b[0;34m.\u001b[0m\u001b[0mitem\u001b[0m\u001b[0;34m(\u001b[0m\u001b[0;34m)\u001b[0m\u001b[0;34m\u001b[0m\u001b[0;34m\u001b[0m\u001b[0m\n\u001b[1;32m     17\u001b[0m         \u001b[0mloss\u001b[0m\u001b[0;34m.\u001b[0m\u001b[0mbackward\u001b[0m\u001b[0;34m(\u001b[0m\u001b[0;34m)\u001b[0m\u001b[0;34m\u001b[0m\u001b[0;34m\u001b[0m\u001b[0m\n",
            "\u001b[0;32m/usr/local/lib/python3.6/dist-packages/torch/nn/modules/module.py\u001b[0m in \u001b[0;36m__call__\u001b[0;34m(self, *input, **kwargs)\u001b[0m\n\u001b[1;32m    487\u001b[0m             \u001b[0mresult\u001b[0m \u001b[0;34m=\u001b[0m \u001b[0mself\u001b[0m\u001b[0;34m.\u001b[0m\u001b[0m_slow_forward\u001b[0m\u001b[0;34m(\u001b[0m\u001b[0;34m*\u001b[0m\u001b[0minput\u001b[0m\u001b[0;34m,\u001b[0m \u001b[0;34m**\u001b[0m\u001b[0mkwargs\u001b[0m\u001b[0;34m)\u001b[0m\u001b[0;34m\u001b[0m\u001b[0;34m\u001b[0m\u001b[0m\n\u001b[1;32m    488\u001b[0m         \u001b[0;32melse\u001b[0m\u001b[0;34m:\u001b[0m\u001b[0;34m\u001b[0m\u001b[0;34m\u001b[0m\u001b[0m\n\u001b[0;32m--> 489\u001b[0;31m             \u001b[0mresult\u001b[0m \u001b[0;34m=\u001b[0m \u001b[0mself\u001b[0m\u001b[0;34m.\u001b[0m\u001b[0mforward\u001b[0m\u001b[0;34m(\u001b[0m\u001b[0;34m*\u001b[0m\u001b[0minput\u001b[0m\u001b[0;34m,\u001b[0m \u001b[0;34m**\u001b[0m\u001b[0mkwargs\u001b[0m\u001b[0;34m)\u001b[0m\u001b[0;34m\u001b[0m\u001b[0;34m\u001b[0m\u001b[0m\n\u001b[0m\u001b[1;32m    490\u001b[0m         \u001b[0;32mfor\u001b[0m \u001b[0mhook\u001b[0m \u001b[0;32min\u001b[0m \u001b[0mself\u001b[0m\u001b[0;34m.\u001b[0m\u001b[0m_forward_hooks\u001b[0m\u001b[0;34m.\u001b[0m\u001b[0mvalues\u001b[0m\u001b[0;34m(\u001b[0m\u001b[0;34m)\u001b[0m\u001b[0;34m:\u001b[0m\u001b[0;34m\u001b[0m\u001b[0;34m\u001b[0m\u001b[0m\n\u001b[1;32m    491\u001b[0m             \u001b[0mhook_result\u001b[0m \u001b[0;34m=\u001b[0m \u001b[0mhook\u001b[0m\u001b[0;34m(\u001b[0m\u001b[0mself\u001b[0m\u001b[0;34m,\u001b[0m \u001b[0minput\u001b[0m\u001b[0;34m,\u001b[0m \u001b[0mresult\u001b[0m\u001b[0;34m)\u001b[0m\u001b[0;34m\u001b[0m\u001b[0;34m\u001b[0m\u001b[0m\n",
            "\u001b[0;32m<ipython-input-23-455d8abe2161>\u001b[0m in \u001b[0;36mforward\u001b[0;34m(self, x)\u001b[0m\n\u001b[1;32m     15\u001b[0m         \u001b[0mx\u001b[0m \u001b[0;34m=\u001b[0m \u001b[0mself\u001b[0m\u001b[0;34m.\u001b[0m\u001b[0mrelu\u001b[0m\u001b[0;34m(\u001b[0m\u001b[0mself\u001b[0m\u001b[0;34m.\u001b[0m\u001b[0mconv1\u001b[0m\u001b[0;34m(\u001b[0m\u001b[0mx\u001b[0m\u001b[0;34m)\u001b[0m\u001b[0;34m)\u001b[0m\u001b[0;34m\u001b[0m\u001b[0;34m\u001b[0m\u001b[0m\n\u001b[1;32m     16\u001b[0m         \u001b[0mx\u001b[0m \u001b[0;34m=\u001b[0m \u001b[0mself\u001b[0m\u001b[0;34m.\u001b[0m\u001b[0mrelu\u001b[0m\u001b[0;34m(\u001b[0m\u001b[0mself\u001b[0m\u001b[0;34m.\u001b[0m\u001b[0mconv2\u001b[0m\u001b[0;34m(\u001b[0m\u001b[0mx\u001b[0m\u001b[0;34m)\u001b[0m\u001b[0;34m)\u001b[0m\u001b[0;34m\u001b[0m\u001b[0;34m\u001b[0m\u001b[0m\n\u001b[0;32m---> 17\u001b[0;31m         \u001b[0mx\u001b[0m \u001b[0;34m=\u001b[0m \u001b[0mself\u001b[0m\u001b[0;34m.\u001b[0m\u001b[0mrelu\u001b[0m\u001b[0;34m(\u001b[0m\u001b[0mself\u001b[0m\u001b[0;34m.\u001b[0m\u001b[0mconv3\u001b[0m\u001b[0;34m(\u001b[0m\u001b[0mx\u001b[0m\u001b[0;34m)\u001b[0m\u001b[0;34m)\u001b[0m\u001b[0;34m\u001b[0m\u001b[0;34m\u001b[0m\u001b[0m\n\u001b[0m\u001b[1;32m     18\u001b[0m         \u001b[0mx\u001b[0m \u001b[0;34m=\u001b[0m \u001b[0mself\u001b[0m\u001b[0;34m.\u001b[0m\u001b[0mpixel_shuffle\u001b[0m\u001b[0;34m(\u001b[0m\u001b[0mself\u001b[0m\u001b[0;34m.\u001b[0m\u001b[0mconv4\u001b[0m\u001b[0;34m(\u001b[0m\u001b[0mx\u001b[0m\u001b[0;34m)\u001b[0m\u001b[0;34m)\u001b[0m\u001b[0;34m\u001b[0m\u001b[0;34m\u001b[0m\u001b[0m\n\u001b[1;32m     19\u001b[0m         \u001b[0;32mreturn\u001b[0m \u001b[0mx\u001b[0m\u001b[0;34m\u001b[0m\u001b[0;34m\u001b[0m\u001b[0m\n",
            "\u001b[0;32m/usr/local/lib/python3.6/dist-packages/torch/nn/modules/module.py\u001b[0m in \u001b[0;36m__call__\u001b[0;34m(self, *input, **kwargs)\u001b[0m\n\u001b[1;32m    487\u001b[0m             \u001b[0mresult\u001b[0m \u001b[0;34m=\u001b[0m \u001b[0mself\u001b[0m\u001b[0;34m.\u001b[0m\u001b[0m_slow_forward\u001b[0m\u001b[0;34m(\u001b[0m\u001b[0;34m*\u001b[0m\u001b[0minput\u001b[0m\u001b[0;34m,\u001b[0m \u001b[0;34m**\u001b[0m\u001b[0mkwargs\u001b[0m\u001b[0;34m)\u001b[0m\u001b[0;34m\u001b[0m\u001b[0;34m\u001b[0m\u001b[0m\n\u001b[1;32m    488\u001b[0m         \u001b[0;32melse\u001b[0m\u001b[0;34m:\u001b[0m\u001b[0;34m\u001b[0m\u001b[0;34m\u001b[0m\u001b[0m\n\u001b[0;32m--> 489\u001b[0;31m             \u001b[0mresult\u001b[0m \u001b[0;34m=\u001b[0m \u001b[0mself\u001b[0m\u001b[0;34m.\u001b[0m\u001b[0mforward\u001b[0m\u001b[0;34m(\u001b[0m\u001b[0;34m*\u001b[0m\u001b[0minput\u001b[0m\u001b[0;34m,\u001b[0m \u001b[0;34m**\u001b[0m\u001b[0mkwargs\u001b[0m\u001b[0;34m)\u001b[0m\u001b[0;34m\u001b[0m\u001b[0;34m\u001b[0m\u001b[0m\n\u001b[0m\u001b[1;32m    490\u001b[0m         \u001b[0;32mfor\u001b[0m \u001b[0mhook\u001b[0m \u001b[0;32min\u001b[0m \u001b[0mself\u001b[0m\u001b[0;34m.\u001b[0m\u001b[0m_forward_hooks\u001b[0m\u001b[0;34m.\u001b[0m\u001b[0mvalues\u001b[0m\u001b[0;34m(\u001b[0m\u001b[0;34m)\u001b[0m\u001b[0;34m:\u001b[0m\u001b[0;34m\u001b[0m\u001b[0;34m\u001b[0m\u001b[0m\n\u001b[1;32m    491\u001b[0m             \u001b[0mhook_result\u001b[0m \u001b[0;34m=\u001b[0m \u001b[0mhook\u001b[0m\u001b[0;34m(\u001b[0m\u001b[0mself\u001b[0m\u001b[0;34m,\u001b[0m \u001b[0minput\u001b[0m\u001b[0;34m,\u001b[0m \u001b[0mresult\u001b[0m\u001b[0;34m)\u001b[0m\u001b[0;34m\u001b[0m\u001b[0;34m\u001b[0m\u001b[0m\n",
            "\u001b[0;32m/usr/local/lib/python3.6/dist-packages/torch/nn/modules/conv.py\u001b[0m in \u001b[0;36mforward\u001b[0;34m(self, input)\u001b[0m\n\u001b[1;32m    318\u001b[0m     \u001b[0;32mdef\u001b[0m \u001b[0mforward\u001b[0m\u001b[0;34m(\u001b[0m\u001b[0mself\u001b[0m\u001b[0;34m,\u001b[0m \u001b[0minput\u001b[0m\u001b[0;34m)\u001b[0m\u001b[0;34m:\u001b[0m\u001b[0;34m\u001b[0m\u001b[0;34m\u001b[0m\u001b[0m\n\u001b[1;32m    319\u001b[0m         return F.conv2d(input, self.weight, self.bias, self.stride,\n\u001b[0;32m--> 320\u001b[0;31m                         self.padding, self.dilation, self.groups)\n\u001b[0m\u001b[1;32m    321\u001b[0m \u001b[0;34m\u001b[0m\u001b[0m\n\u001b[1;32m    322\u001b[0m \u001b[0;34m\u001b[0m\u001b[0m\n",
            "\u001b[0;31mKeyboardInterrupt\u001b[0m: "
          ]
        }
      ]
    },
    {
      "metadata": {
        "id": "Cl6SQzRHMQHA",
        "colab_type": "code",
        "colab": {}
      },
      "cell_type": "code",
      "source": [
        ""
      ],
      "execution_count": 0,
      "outputs": []
    }
  ]
}